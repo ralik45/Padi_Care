{
  "metadata": {
    "kernelspec": {
      "language": "python",
      "display_name": "Python 3",
      "name": "python3"
    },
    "language_info": {
      "name": "python",
      "version": "3.10.12",
      "mimetype": "text/x-python",
      "codemirror_mode": {
        "name": "ipython",
        "version": 3
      },
      "pygments_lexer": "ipython3",
      "nbconvert_exporter": "python",
      "file_extension": ".py"
    },
    "kaggle": {
      "accelerator": "nvidiaTeslaT4",
      "dataSources": [
        {
          "sourceId": 7227621,
          "sourceType": "datasetVersion",
          "datasetId": 4111411
        },
        {
          "sourceId": 8474351,
          "sourceType": "datasetVersion",
          "datasetId": 5025430
        }
      ],
      "dockerImageVersionId": 30528,
      "isInternetEnabled": true,
      "language": "python",
      "sourceType": "notebook",
      "isGpuEnabled": true
    },
    "colab": {
      "name": "Rice Leaf Diseases Detection",
      "provenance": [],
      "include_colab_link": true
    }
  },
  "nbformat_minor": 0,
  "nbformat": 4,
  "cells": [
    {
      "cell_type": "markdown",
      "metadata": {
        "id": "view-in-github",
        "colab_type": "text"
      },
      "source": [
        "<a href=\"https://colab.research.google.com/github/ralik45/Padi_Care/blob/main/Rice_Leaf_Diseases_Detection.ipynb\" target=\"_parent\"><img src=\"https://colab.research.google.com/assets/colab-badge.svg\" alt=\"Open In Colab\"/></a>"
      ]
    },
    {
      "source": [
        "\n",
        "# IMPORTANT: RUN THIS CELL IN ORDER TO IMPORT YOUR KAGGLE DATA SOURCES\n",
        "# TO THE CORRECT LOCATION (/kaggle/input) IN YOUR NOTEBOOK,\n",
        "# THEN FEEL FREE TO DELETE THIS CELL.\n",
        "# NOTE: THIS NOTEBOOK ENVIRONMENT DIFFERS FROM KAGGLE'S PYTHON\n",
        "# ENVIRONMENT SO THERE MAY BE MISSING LIBRARIES USED BY YOUR\n",
        "# NOTEBOOK.\n",
        "\n",
        "import os\n",
        "import sys\n",
        "from tempfile import NamedTemporaryFile\n",
        "from urllib.request import urlopen\n",
        "from urllib.parse import unquote, urlparse\n",
        "from urllib.error import HTTPError\n",
        "from zipfile import ZipFile\n",
        "import tarfile\n",
        "import shutil\n",
        "\n",
        "CHUNK_SIZE = 40960\n",
        "DATA_SOURCE_MAPPING = 'rice-diseases:https%3A%2F%2Fstorage.googleapis.com%2Fkaggle-data-sets%2F4111411%2F7227621%2Fbundle%2Farchive.zip%3FX-Goog-Algorithm%3DGOOG4-RSA-SHA256%26X-Goog-Credential%3Dgcp-kaggle-com%2540kaggle-161607.iam.gserviceaccount.com%252F20240810%252Fauto%252Fstorage%252Fgoog4_request%26X-Goog-Date%3D20240810T091658Z%26X-Goog-Expires%3D259200%26X-Goog-SignedHeaders%3Dhost%26X-Goog-Signature%3D387dc1ed02b36c728408a8dd712ad7f2cc41e90a0cf7c887b5dab711a9572b776563c3038244208a79e850aa8547963a0bbaf1fec35867d87c3206265e8fc6342e9a184f4c7402b6cae81e98f8755544703ef03a1edf5bf128ed89fa2d28a1d2c32e9504e5f7a175339be1260ce125e35eb5f65d0483ff1138b37720149f0dd6f9093258cc0a69f877e711d5829fb9e37402d61b9b13b13f477dd36aa0424b17ff35723d63de22d8f97d3a9121f0e80f5dd0ba5d39acc31be426cd31c5ca647f4b12cbe67d97fd4949e25d897ad61c85355e0b522adcba67b6ff50b88b452fec64c5d5257d32bedf3c10eb494175e1e947dcfb1f10615503e93220e0fc97a484,rl-diseases:https%3A%2F%2Fstorage.googleapis.com%2Fkaggle-data-sets%2F5025430%2F8474351%2Fbundle%2Farchive.zip%3FX-Goog-Algorithm%3DGOOG4-RSA-SHA256%26X-Goog-Credential%3Dgcp-kaggle-com%2540kaggle-161607.iam.gserviceaccount.com%252F20240810%252Fauto%252Fstorage%252Fgoog4_request%26X-Goog-Date%3D20240810T091658Z%26X-Goog-Expires%3D259200%26X-Goog-SignedHeaders%3Dhost%26X-Goog-Signature%3D07f6c374da14509c7abf82d2ef199a7547e5ea3a4df954553de49bb0e84272b24bdef7571cad20a2f3e31aa85c0693125358d07c5abf65ec5525024b82cacc0bd23b2aa6def955e70d2167d2b46979ec162ac7f8dfa909d008a6bf08f23764a94129b93c4941aa1c7876a9df5f85a53efccc90e08e4ed1e4c3e557df32f2afc2f252c446e66410f36aba921e94b5e1e256751ad54d6512749d555ff6e4de41b1ea5156282f5a7ae223f49e0aef09cf9cc76f3b381fa5b392a656b363293dc309cb73724740211de9def9098d91e3654abd006d073b1fb6031edca49f263a6d56671785fde9e6afbe35f49908ddc0fac8c758cc20b115cbe85b62e929840fed62'\n",
        "\n",
        "KAGGLE_INPUT_PATH='/kaggle/input'\n",
        "KAGGLE_WORKING_PATH='/kaggle/working'\n",
        "KAGGLE_SYMLINK='kaggle'\n",
        "\n",
        "!umount /kaggle/input/ 2> /dev/null\n",
        "shutil.rmtree('/kaggle/input', ignore_errors=True)\n",
        "os.makedirs(KAGGLE_INPUT_PATH, 0o777, exist_ok=True)\n",
        "os.makedirs(KAGGLE_WORKING_PATH, 0o777, exist_ok=True)\n",
        "\n",
        "try:\n",
        "  os.symlink(KAGGLE_INPUT_PATH, os.path.join(\"..\", 'input'), target_is_directory=True)\n",
        "except FileExistsError:\n",
        "  pass\n",
        "try:\n",
        "  os.symlink(KAGGLE_WORKING_PATH, os.path.join(\"..\", 'working'), target_is_directory=True)\n",
        "except FileExistsError:\n",
        "  pass\n",
        "\n",
        "for data_source_mapping in DATA_SOURCE_MAPPING.split(','):\n",
        "    directory, download_url_encoded = data_source_mapping.split(':')\n",
        "    download_url = unquote(download_url_encoded)\n",
        "    filename = urlparse(download_url).path\n",
        "    destination_path = os.path.join(KAGGLE_INPUT_PATH, directory)\n",
        "    try:\n",
        "        with urlopen(download_url) as fileres, NamedTemporaryFile() as tfile:\n",
        "            total_length = fileres.headers['content-length']\n",
        "            print(f'Downloading {directory}, {total_length} bytes compressed')\n",
        "            dl = 0\n",
        "            data = fileres.read(CHUNK_SIZE)\n",
        "            while len(data) > 0:\n",
        "                dl += len(data)\n",
        "                tfile.write(data)\n",
        "                done = int(50 * dl / int(total_length))\n",
        "                sys.stdout.write(f\"\\r[{'=' * done}{' ' * (50-done)}] {dl} bytes downloaded\")\n",
        "                sys.stdout.flush()\n",
        "                data = fileres.read(CHUNK_SIZE)\n",
        "            if filename.endswith('.zip'):\n",
        "              with ZipFile(tfile) as zfile:\n",
        "                zfile.extractall(destination_path)\n",
        "            else:\n",
        "              with tarfile.open(tfile.name) as tarfile:\n",
        "                tarfile.extractall(destination_path)\n",
        "            print(f'\\nDownloaded and uncompressed: {directory}')\n",
        "    except HTTPError as e:\n",
        "        print(f'Failed to load (likely expired) {download_url} to path {destination_path}')\n",
        "        continue\n",
        "    except OSError as e:\n",
        "        print(f'Failed to load {download_url} to path {destination_path}')\n",
        "        continue\n",
        "\n",
        "print('Data source import complete.')\n"
      ],
      "metadata": {
        "id": "1OGYXMLPk8FA"
      },
      "cell_type": "code",
      "outputs": [],
      "execution_count": null
    },
    {
      "cell_type": "markdown",
      "source": [
        "# Rice Leaf Diseases Detection\n",
        "\n",
        "Rice Leaf Diseases Detection ini merupakan salah satu fitur dari project yang sedang kami buat dalam rangka menyelesaikan tugas capstone project"
      ],
      "metadata": {
        "id": "SPnorreok8FJ"
      }
    },
    {
      "cell_type": "markdown",
      "source": [
        "## Input"
      ],
      "metadata": {
        "id": "Xeacsf59k8FO"
      }
    },
    {
      "cell_type": "markdown",
      "source": [
        "### Library"
      ],
      "metadata": {
        "id": "8jQQoc5pk8FP"
      }
    },
    {
      "cell_type": "code",
      "source": [
        "import tensorflow as tf\n",
        "from tensorflow import keras\n",
        "from keras.preprocessing.image import ImageDataGenerator\n",
        "import os\n",
        "import pathlib\n",
        "import matplotlib.pyplot as plt\n",
        "import numpy as np\n",
        "import pandas as pd\n",
        "import seaborn as sns\n",
        "from tensorflow.keras.models import Sequential\n",
        "from tensorflow.keras.optimizers import Adam\n",
        "from tensorflow.keras import Model, callbacks\n",
        "from tensorflow.keras.layers import Flatten, Dense, Dropout"
      ],
      "metadata": {
        "_uuid": "8f2839f25d086af736a60e9eeb907d3b93b6e0e5",
        "_cell_guid": "b1076dfc-b9ad-4769-8c92-a6c4dae69d19",
        "execution": {
          "iopub.status.busy": "2024-06-06T21:08:41.685774Z",
          "iopub.execute_input": "2024-06-06T21:08:41.686039Z",
          "iopub.status.idle": "2024-06-06T21:08:50.597223Z",
          "shell.execute_reply.started": "2024-06-06T21:08:41.686013Z",
          "shell.execute_reply": "2024-06-06T21:08:50.596434Z"
        },
        "trusted": true,
        "id": "JUX4wJuok8FQ"
      },
      "execution_count": null,
      "outputs": []
    },
    {
      "cell_type": "markdown",
      "source": [
        "### Dataset"
      ],
      "metadata": {
        "id": "GTQFBG4Ik8FR"
      }
    },
    {
      "cell_type": "code",
      "source": [
        "train_data = '/kaggle/input/rl-diseases/RL_disease/RL_disease/train'\n",
        "valid_data = '/kaggle/input/rl-diseases/RL_disease/RL_disease/valid'\n",
        "testing_data = '/kaggle/input/rl-diseases/Test/Test'"
      ],
      "metadata": {
        "execution": {
          "iopub.status.busy": "2024-06-06T21:08:50.598691Z",
          "iopub.execute_input": "2024-06-06T21:08:50.599199Z",
          "iopub.status.idle": "2024-06-06T21:08:50.604274Z",
          "shell.execute_reply.started": "2024-06-06T21:08:50.599172Z",
          "shell.execute_reply": "2024-06-06T21:08:50.603452Z"
        },
        "trusted": true,
        "id": "RPsBvyhGk8FS"
      },
      "execution_count": null,
      "outputs": []
    },
    {
      "cell_type": "code",
      "source": [
        "classes=[]\n",
        "for file in os.listdir(train_data):\n",
        "    classes+=[file]\n",
        "print(classes)\n",
        "print(len(classes))"
      ],
      "metadata": {
        "execution": {
          "iopub.status.busy": "2024-06-06T21:08:50.605341Z",
          "iopub.execute_input": "2024-06-06T21:08:50.605671Z",
          "iopub.status.idle": "2024-06-06T21:08:50.626168Z",
          "shell.execute_reply.started": "2024-06-06T21:08:50.605639Z",
          "shell.execute_reply": "2024-06-06T21:08:50.625345Z"
        },
        "trusted": true,
        "id": "MKWmDEU4k8FT"
      },
      "execution_count": null,
      "outputs": []
    },
    {
      "cell_type": "code",
      "source": [
        "brownspot = [train_data + '/BrownSpot/' + img for img in os.listdir(train_data + '/BrownSpot')[:9]]\n",
        "healthy = [train_data  + '/Healthy/' + img for img in os.listdir(train_data + '/Healthy')[:9]]\n",
        "hispa = [train_data  + '/Hispa/' + img for img in os.listdir(train_data + '/Hispa')[:9]]\n",
        "leafblast = [train_data  + '/LeafBlast/' + img for img in os.listdir(train_data + '/LeafBlast')[:9]]"
      ],
      "metadata": {
        "execution": {
          "iopub.status.busy": "2024-06-06T21:08:50.628791Z",
          "iopub.execute_input": "2024-06-06T21:08:50.629348Z",
          "iopub.status.idle": "2024-06-06T21:08:50.856271Z",
          "shell.execute_reply.started": "2024-06-06T21:08:50.629322Z",
          "shell.execute_reply": "2024-06-06T21:08:50.855511Z"
        },
        "trusted": true,
        "id": "Nh9D7Jhzk8FU"
      },
      "execution_count": null,
      "outputs": []
    },
    {
      "cell_type": "markdown",
      "source": [
        "#### Brown Spot"
      ],
      "metadata": {
        "id": "-tHOYLEXk8FV"
      }
    },
    {
      "cell_type": "code",
      "source": [
        "from PIL import Image\n",
        "plt.figure(figsize=(16,16))\n",
        "for i,k  in enumerate(brownspot):\n",
        "    image = Image.open(k)\n",
        "    plt.subplot(3,3,i+1)\n",
        "    plt.imshow(image)\n",
        "    plt.title(\"Brown Spot\")"
      ],
      "metadata": {
        "execution": {
          "iopub.status.busy": "2024-06-06T21:08:50.85746Z",
          "iopub.execute_input": "2024-06-06T21:08:50.857794Z",
          "iopub.status.idle": "2024-06-06T21:09:01.629145Z",
          "shell.execute_reply.started": "2024-06-06T21:08:50.85776Z",
          "shell.execute_reply": "2024-06-06T21:09:01.627919Z"
        },
        "trusted": true,
        "id": "vzhpdYQQk8FV"
      },
      "execution_count": null,
      "outputs": []
    },
    {
      "cell_type": "markdown",
      "source": [
        "#### Hispa"
      ],
      "metadata": {
        "id": "b0cSlUTnk8FW"
      }
    },
    {
      "cell_type": "code",
      "source": [
        "plt.figure(figsize=(16,16))\n",
        "for i,k  in enumerate(hispa):\n",
        "    image = Image.open(k)\n",
        "    plt.subplot(3,3,i+1)\n",
        "    plt.imshow(image)\n",
        "    plt.title(\"Hispa\")"
      ],
      "metadata": {
        "execution": {
          "iopub.status.busy": "2024-06-06T21:09:01.63054Z",
          "iopub.execute_input": "2024-06-06T21:09:01.630829Z",
          "iopub.status.idle": "2024-06-06T21:09:10.338749Z",
          "shell.execute_reply.started": "2024-06-06T21:09:01.630803Z",
          "shell.execute_reply": "2024-06-06T21:09:10.337708Z"
        },
        "trusted": true,
        "id": "pJEwJvYok8FW"
      },
      "execution_count": null,
      "outputs": []
    },
    {
      "cell_type": "markdown",
      "source": [
        "#### Leaf Blast"
      ],
      "metadata": {
        "id": "E1cSnbWyk8FX"
      }
    },
    {
      "cell_type": "code",
      "source": [
        "plt.figure(figsize=(16,16))\n",
        "for i,k  in enumerate(leafblast):\n",
        "    image = Image.open(k)\n",
        "    plt.subplot(3,3,i+1)\n",
        "    plt.imshow(image)\n",
        "    plt.title(\"Leaf Blast\")"
      ],
      "metadata": {
        "execution": {
          "iopub.status.busy": "2024-06-06T21:09:10.340035Z",
          "iopub.execute_input": "2024-06-06T21:09:10.340359Z",
          "iopub.status.idle": "2024-06-06T21:09:21.57923Z",
          "shell.execute_reply.started": "2024-06-06T21:09:10.340332Z",
          "shell.execute_reply": "2024-06-06T21:09:21.578253Z"
        },
        "trusted": true,
        "id": "2mdrJLVfk8FX"
      },
      "execution_count": null,
      "outputs": []
    },
    {
      "cell_type": "markdown",
      "source": [
        "#### Healthy"
      ],
      "metadata": {
        "id": "mRlS3SRIk8FY"
      }
    },
    {
      "cell_type": "code",
      "source": [
        "plt.figure(figsize=(16,16))\n",
        "for i,k  in enumerate(healthy):\n",
        "    image = Image.open(k)\n",
        "    plt.subplot(3,3,i+1)\n",
        "    plt.imshow(image)\n",
        "    plt.title(\"Healthy\")"
      ],
      "metadata": {
        "execution": {
          "iopub.status.busy": "2024-06-06T21:09:21.58051Z",
          "iopub.execute_input": "2024-06-06T21:09:21.580874Z",
          "iopub.status.idle": "2024-06-06T21:09:32.367753Z",
          "shell.execute_reply.started": "2024-06-06T21:09:21.58084Z",
          "shell.execute_reply": "2024-06-06T21:09:32.366359Z"
        },
        "trusted": true,
        "id": "iVPudxVkk8FY"
      },
      "execution_count": null,
      "outputs": []
    },
    {
      "cell_type": "code",
      "source": [
        "dataGenerator = ImageDataGenerator(rescale= 1. / 255)\n",
        "train_data = dataGenerator.flow_from_directory(\n",
        "    train_data,\n",
        "    target_size=(224,224),\n",
        "    batch_size=32,\n",
        "    class_mode='categorical',\n",
        ")\n",
        "val_data = dataGenerator.flow_from_directory(\n",
        "    valid_data,\n",
        "    target_size=(224,224),\n",
        "    batch_size=32,\n",
        "    class_mode='categorical',\n",
        ")"
      ],
      "metadata": {
        "execution": {
          "iopub.status.busy": "2024-06-06T21:09:32.369076Z",
          "iopub.execute_input": "2024-06-06T21:09:32.369394Z",
          "iopub.status.idle": "2024-06-06T21:09:32.46971Z",
          "shell.execute_reply.started": "2024-06-06T21:09:32.369368Z",
          "shell.execute_reply": "2024-06-06T21:09:32.468801Z"
        },
        "trusted": true,
        "id": "i6hvHVyEk8FZ"
      },
      "execution_count": null,
      "outputs": []
    },
    {
      "cell_type": "code",
      "source": [
        "# Access one batch from the training data\n",
        "for images, labels in train_data:\n",
        "    print(\"Shape of training images:\", images.shape)\n",
        "    break  # We break the loop as we only need to inspect one batch\n",
        "\n",
        "# Access one batch from the validation data\n",
        "for images, labels in val_data:\n",
        "    print(\"Shape of validation images:\", images.shape)\n",
        "    break  # Break after getting one batch"
      ],
      "metadata": {
        "execution": {
          "iopub.status.busy": "2024-06-06T21:09:32.473964Z",
          "iopub.execute_input": "2024-06-06T21:09:32.474334Z",
          "iopub.status.idle": "2024-06-06T21:09:37.497653Z",
          "shell.execute_reply.started": "2024-06-06T21:09:32.474306Z",
          "shell.execute_reply": "2024-06-06T21:09:37.496731Z"
        },
        "trusted": true,
        "id": "q5K2U9xek8FZ"
      },
      "execution_count": null,
      "outputs": []
    },
    {
      "cell_type": "markdown",
      "source": [
        "## Model"
      ],
      "metadata": {
        "id": "eXUex5T0k8FZ"
      }
    },
    {
      "cell_type": "markdown",
      "source": [
        "### List Model"
      ],
      "metadata": {
        "id": "KbpCFflWk8Fa"
      }
    },
    {
      "cell_type": "markdown",
      "source": [
        "#### Resnet"
      ],
      "metadata": {
        "id": "7xswkLQ5k8Fa"
      }
    },
    {
      "cell_type": "code",
      "source": [
        "resnet_model = tf.keras.applications.resnet_v2.ResNet50V2(\n",
        "    include_top=False,\n",
        "    weights='imagenet',\n",
        "    input_shape=(224, 224, 3)\n",
        ")\n",
        "resnet_model.trainable = False"
      ],
      "metadata": {
        "execution": {
          "iopub.status.busy": "2024-06-06T21:09:37.498966Z",
          "iopub.execute_input": "2024-06-06T21:09:37.499356Z",
          "iopub.status.idle": "2024-06-06T21:09:43.140199Z",
          "shell.execute_reply.started": "2024-06-06T21:09:37.49932Z",
          "shell.execute_reply": "2024-06-06T21:09:43.139323Z"
        },
        "trusted": true,
        "id": "gu5aeqj6k8Fa"
      },
      "execution_count": null,
      "outputs": []
    },
    {
      "cell_type": "markdown",
      "source": [
        "#### MobileNet"
      ],
      "metadata": {
        "id": "UtsY8er4k8Fa"
      }
    },
    {
      "cell_type": "code",
      "source": [
        "mobilenet_model = tf.keras.applications.mobilenet_v2.MobileNetV2(\n",
        "    include_top=False,\n",
        "    weights='imagenet',\n",
        "    input_shape=(224, 224, 3)\n",
        ")\n",
        "mobilenet_model.trainable = False"
      ],
      "metadata": {
        "execution": {
          "iopub.status.busy": "2024-06-06T21:09:43.142012Z",
          "iopub.execute_input": "2024-06-06T21:09:43.14242Z",
          "iopub.status.idle": "2024-06-06T21:09:44.696451Z",
          "shell.execute_reply.started": "2024-06-06T21:09:43.142375Z",
          "shell.execute_reply": "2024-06-06T21:09:44.695606Z"
        },
        "trusted": true,
        "id": "gqZzMIABk8Fb"
      },
      "execution_count": null,
      "outputs": []
    },
    {
      "cell_type": "markdown",
      "source": [
        "#### Inception"
      ],
      "metadata": {
        "id": "3W4v6PESk8Fb"
      }
    },
    {
      "cell_type": "code",
      "source": [
        "inception_model = tf.keras.applications.inception_v3.InceptionV3(\n",
        "    include_top=False,\n",
        "    weights='imagenet',\n",
        "    input_shape=(224, 224, 3)\n",
        ")\n",
        "inception_model.trainable = False"
      ],
      "metadata": {
        "execution": {
          "iopub.status.busy": "2024-06-06T21:09:44.697577Z",
          "iopub.execute_input": "2024-06-06T21:09:44.697863Z",
          "iopub.status.idle": "2024-06-06T21:09:47.737431Z",
          "shell.execute_reply.started": "2024-06-06T21:09:44.697836Z",
          "shell.execute_reply": "2024-06-06T21:09:47.736401Z"
        },
        "trusted": true,
        "id": "qUFzILaLk8Fb"
      },
      "execution_count": null,
      "outputs": []
    },
    {
      "cell_type": "markdown",
      "source": [
        "#### Vgg"
      ],
      "metadata": {
        "id": "EJUFFWhik8Fc"
      }
    },
    {
      "cell_type": "code",
      "source": [
        "vgg_model = tf.keras.applications.vgg19.VGG19(\n",
        "    include_top=False,\n",
        "    weights='imagenet',\n",
        "    input_shape=(224, 224, 3)\n",
        ")\n",
        "vgg_model.trainable = False"
      ],
      "metadata": {
        "execution": {
          "iopub.status.busy": "2024-06-06T21:09:47.738655Z",
          "iopub.execute_input": "2024-06-06T21:09:47.738951Z",
          "iopub.status.idle": "2024-06-06T21:09:48.547035Z",
          "shell.execute_reply.started": "2024-06-06T21:09:47.738923Z",
          "shell.execute_reply": "2024-06-06T21:09:48.546269Z"
        },
        "trusted": true,
        "id": "zjP2Qohck8Fc"
      },
      "execution_count": null,
      "outputs": []
    },
    {
      "cell_type": "markdown",
      "source": [
        "### Train Model"
      ],
      "metadata": {
        "id": "UxGh4fP4k8Fc"
      }
    },
    {
      "cell_type": "code",
      "source": [
        "model = Sequential()\n",
        "\n",
        "model.add(resnet_model)\n",
        "model.add(Flatten())\n",
        "model.add(Dense(4, activation='softmax'))\n",
        "model.summary()"
      ],
      "metadata": {
        "execution": {
          "iopub.status.busy": "2024-06-06T21:09:48.548255Z",
          "iopub.execute_input": "2024-06-06T21:09:48.548612Z",
          "iopub.status.idle": "2024-06-06T21:09:49.017054Z",
          "shell.execute_reply.started": "2024-06-06T21:09:48.548578Z",
          "shell.execute_reply": "2024-06-06T21:09:49.016111Z"
        },
        "trusted": true,
        "id": "wBS-sbXWk8Fd"
      },
      "execution_count": null,
      "outputs": []
    },
    {
      "cell_type": "code",
      "source": [
        "model.compile(optimizer = Adam(learning_rate=0.001),\n",
        "              loss = 'categorical_crossentropy',\n",
        "              metrics = ['accuracy'])"
      ],
      "metadata": {
        "execution": {
          "iopub.status.busy": "2024-06-06T21:09:49.018136Z",
          "iopub.execute_input": "2024-06-06T21:09:49.018429Z",
          "iopub.status.idle": "2024-06-06T21:09:49.037924Z",
          "shell.execute_reply.started": "2024-06-06T21:09:49.018404Z",
          "shell.execute_reply": "2024-06-06T21:09:49.036993Z"
        },
        "trusted": true,
        "id": "oUGv6-DFk8Fd"
      },
      "execution_count": null,
      "outputs": []
    },
    {
      "cell_type": "code",
      "source": [
        "#early_stopping = callbacks.EarlyStopping(monitor='val_loss', patience=5, restore_best_weights=True)\n",
        "#reduce_lr = callbacks.ReduceLROnPlateau(monitor='val_loss', factor=0.5, patience=2, min_lr=0.00001)"
      ],
      "metadata": {
        "execution": {
          "iopub.status.busy": "2024-06-06T21:09:49.039058Z",
          "iopub.execute_input": "2024-06-06T21:09:49.039374Z",
          "iopub.status.idle": "2024-06-06T21:09:49.043336Z",
          "shell.execute_reply.started": "2024-06-06T21:09:49.039347Z",
          "shell.execute_reply": "2024-06-06T21:09:49.042391Z"
        },
        "trusted": true,
        "id": "GXqYK2zhk8Fe"
      },
      "execution_count": null,
      "outputs": []
    },
    {
      "cell_type": "code",
      "source": [
        "history = model.fit(train_data, validation_data=val_data, epochs=10) #callbacks=[early_stopping, reduce_lr])\n",
        "#print(f\"Training stopped at epoch: {early_stopping.stopped_epoch}\")"
      ],
      "metadata": {
        "execution": {
          "iopub.status.busy": "2024-06-06T21:09:49.044467Z",
          "iopub.execute_input": "2024-06-06T21:09:49.044725Z",
          "iopub.status.idle": "2024-06-06T21:28:36.00106Z",
          "shell.execute_reply.started": "2024-06-06T21:09:49.0447Z",
          "shell.execute_reply": "2024-06-06T21:28:36.000037Z"
        },
        "trusted": true,
        "id": "E7HmR0KNk8Fe"
      },
      "execution_count": null,
      "outputs": []
    },
    {
      "cell_type": "markdown",
      "source": [
        "## Save Model"
      ],
      "metadata": {
        "id": "sQT1ivTjk8Fe"
      }
    },
    {
      "cell_type": "code",
      "source": [
        "model.save('./model.h5')\n",
        "model.save('./model')\n",
        "model.save('./model.tflite')"
      ],
      "metadata": {
        "execution": {
          "iopub.status.busy": "2024-06-06T21:28:36.002372Z",
          "iopub.execute_input": "2024-06-06T21:28:36.002656Z",
          "iopub.status.idle": "2024-06-06T21:29:21.537729Z",
          "shell.execute_reply.started": "2024-06-06T21:28:36.00263Z",
          "shell.execute_reply": "2024-06-06T21:29:21.536879Z"
        },
        "trusted": true,
        "id": "upm1IVmUk8Ff"
      },
      "execution_count": null,
      "outputs": []
    },
    {
      "cell_type": "markdown",
      "source": [
        "## Evaluate"
      ],
      "metadata": {
        "id": "fuHejInXk8Ff"
      }
    },
    {
      "cell_type": "markdown",
      "source": [
        "### Loss & Accuracy"
      ],
      "metadata": {
        "id": "gFaBglgLk8Ff"
      }
    },
    {
      "cell_type": "code",
      "source": [
        "def plot_training_curves(history_df):\n",
        "    plt.figure(figsize = (13, 4), dpi = 120)\n",
        "    ax = plt.subplot(1, 2, 1)\n",
        "    plt.plot(range(1, len(history_df) + 1), history_df['loss'], marker = '.', label = 'Training Loss')\n",
        "    plt.plot(range(1, len(history_df) + 1), history_df['val_loss'], marker = '^', label = 'Validation Loss')\n",
        "    plt.xlabel('Epoch')\n",
        "    plt.ylabel('Cross Entropy')\n",
        "    plt.grid()\n",
        "    plt.legend()\n",
        "    ax = plt.subplot(1, 2, 2)\n",
        "    plt.plot(range(1, len(history_df) + 1), history_df['accuracy'], marker = '.', label = 'Training Accuracy')\n",
        "    plt.plot(range(1, len(history_df) + 1), history_df['val_accuracy'], marker = '^', label = 'Validation Accurcay')\n",
        "    plt.xlabel('Epoch')\n",
        "    plt.ylabel('Accuracy')\n",
        "    plt.grid()\n",
        "    plt.legend()\n",
        "    plt.show()"
      ],
      "metadata": {
        "execution": {
          "iopub.status.busy": "2024-06-06T21:29:21.541346Z",
          "iopub.execute_input": "2024-06-06T21:29:21.541609Z",
          "iopub.status.idle": "2024-06-06T21:29:21.553765Z",
          "shell.execute_reply.started": "2024-06-06T21:29:21.541585Z",
          "shell.execute_reply": "2024-06-06T21:29:21.552861Z"
        },
        "trusted": true,
        "id": "2x6Cw1Fjk8Fg"
      },
      "execution_count": null,
      "outputs": []
    },
    {
      "cell_type": "code",
      "source": [
        "plot_training_curves(pd.DataFrame(history.history))"
      ],
      "metadata": {
        "execution": {
          "iopub.status.busy": "2024-06-06T21:29:21.554861Z",
          "iopub.execute_input": "2024-06-06T21:29:21.55524Z",
          "iopub.status.idle": "2024-06-06T21:29:22.033215Z",
          "shell.execute_reply.started": "2024-06-06T21:29:21.555213Z",
          "shell.execute_reply": "2024-06-06T21:29:22.03225Z"
        },
        "trusted": true,
        "id": "bGbK86NUk8Fo"
      },
      "execution_count": null,
      "outputs": []
    },
    {
      "cell_type": "markdown",
      "source": [
        "### Classification Report"
      ],
      "metadata": {
        "id": "YKQqE9OZk8Fp"
      }
    },
    {
      "cell_type": "code",
      "source": [
        "dataGenerator = ImageDataGenerator(rescale= 1. / 255)\n",
        "test_data = dataGenerator.flow_from_directory(\n",
        "    testing_data,\n",
        "    target_size=(224,224),\n",
        "    batch_size=32,\n",
        "    class_mode='categorical',\n",
        ")"
      ],
      "metadata": {
        "execution": {
          "iopub.status.busy": "2024-06-06T21:29:22.034629Z",
          "iopub.execute_input": "2024-06-06T21:29:22.035079Z",
          "iopub.status.idle": "2024-06-06T21:29:22.055729Z",
          "shell.execute_reply.started": "2024-06-06T21:29:22.035043Z",
          "shell.execute_reply": "2024-06-06T21:29:22.054832Z"
        },
        "trusted": true,
        "id": "DZYbpPxQk8Fp"
      },
      "execution_count": null,
      "outputs": []
    },
    {
      "cell_type": "code",
      "source": [
        "class_dict = test_data.class_indices\n",
        "li = list(class_dict.keys())\n",
        "print(li)"
      ],
      "metadata": {
        "execution": {
          "iopub.status.busy": "2024-06-06T21:29:22.056963Z",
          "iopub.execute_input": "2024-06-06T21:29:22.057546Z",
          "iopub.status.idle": "2024-06-06T21:29:22.063137Z",
          "shell.execute_reply.started": "2024-06-06T21:29:22.057512Z",
          "shell.execute_reply": "2024-06-06T21:29:22.062151Z"
        },
        "trusted": true,
        "id": "OdE0lz5zk8Fp"
      },
      "execution_count": null,
      "outputs": []
    },
    {
      "cell_type": "markdown",
      "source": [
        "#### Test Data"
      ],
      "metadata": {
        "id": "bS_PB-4ck8Fq"
      }
    },
    {
      "cell_type": "code",
      "source": [
        "from sklearn.metrics import classification_report\n",
        "y_pred = model.predict(test_data)\n",
        "y_pred = np.argmax(y_pred, axis=1)\n",
        "print('Classification Report')\n",
        "target_names =li\n",
        "print(classification_report(test_data.classes, y_pred, target_names=target_names))"
      ],
      "metadata": {
        "execution": {
          "iopub.status.busy": "2024-06-06T21:29:22.064355Z",
          "iopub.execute_input": "2024-06-06T21:29:22.064923Z",
          "iopub.status.idle": "2024-06-06T21:29:24.752909Z",
          "shell.execute_reply.started": "2024-06-06T21:29:22.064892Z",
          "shell.execute_reply": "2024-06-06T21:29:24.751919Z"
        },
        "trusted": true,
        "id": "rYyxhuT-k8Fq"
      },
      "execution_count": null,
      "outputs": []
    },
    {
      "cell_type": "markdown",
      "source": [
        "#### Val Data"
      ],
      "metadata": {
        "id": "FAHEpMCCk8Fq"
      }
    },
    {
      "cell_type": "code",
      "source": [
        "from sklearn.metrics import classification_report\n",
        "y_pred = model.predict(val_data)\n",
        "y_pred = np.argmax(y_pred, axis=1)\n",
        "print('Classification Report')\n",
        "target_names =li\n",
        "print(classification_report(val_data.classes, y_pred, target_names=target_names))"
      ],
      "metadata": {
        "execution": {
          "iopub.status.busy": "2024-06-06T21:29:27.898266Z",
          "iopub.execute_input": "2024-06-06T21:29:27.898577Z",
          "iopub.status.idle": "2024-06-06T21:29:51.393137Z",
          "shell.execute_reply.started": "2024-06-06T21:29:27.898548Z",
          "shell.execute_reply": "2024-06-06T21:29:51.392276Z"
        },
        "trusted": true,
        "id": "bRs6XvpVk8Fr"
      },
      "execution_count": null,
      "outputs": []
    },
    {
      "cell_type": "markdown",
      "source": [
        "## Confusion Matrix"
      ],
      "metadata": {
        "id": "H5Ehh0cnk8Fr"
      }
    },
    {
      "cell_type": "markdown",
      "source": [
        "#### Test Data"
      ],
      "metadata": {
        "id": "7Bd-Op6jk8Fr"
      }
    },
    {
      "cell_type": "code",
      "source": [
        "import matplotlib.pyplot as plt\n",
        "import seaborn as sns\n",
        "from sklearn.metrics import confusion_matrix\n",
        "\n",
        "# Assuming your class names are as follows\n",
        "class_names = ['BrownSpot', 'Healthy', 'Hispa', 'LeafBlast']\n",
        "\n",
        "cm = confusion_matrix(test_data.classes, y_pred)\n",
        "\n",
        "# Plotting the confusion matrix\n",
        "plt.figure(figsize=(10,7))\n",
        "sns.heatmap(cm, annot=True, fmt='d', cmap='Blues', xticklabels=class_names, yticklabels=class_names)\n",
        "plt.xlabel('Predicted')\n",
        "plt.ylabel('Actual')\n",
        "plt.title('Confusion Matrix')\n",
        "plt.show()\n"
      ],
      "metadata": {
        "execution": {
          "iopub.status.busy": "2024-06-06T21:29:24.754288Z",
          "iopub.execute_input": "2024-06-06T21:29:24.75467Z",
          "iopub.status.idle": "2024-06-06T21:29:25.128072Z",
          "shell.execute_reply.started": "2024-06-06T21:29:24.754632Z",
          "shell.execute_reply": "2024-06-06T21:29:25.127266Z"
        },
        "trusted": true,
        "id": "ykVIp8FWk8Fs"
      },
      "execution_count": null,
      "outputs": []
    },
    {
      "cell_type": "markdown",
      "source": [
        "#### Val Data"
      ],
      "metadata": {
        "id": "s-u53bfbk8Fs"
      }
    },
    {
      "cell_type": "code",
      "source": [
        "import matplotlib.pyplot as plt\n",
        "import seaborn as sns\n",
        "from sklearn.metrics import confusion_matrix\n",
        "\n",
        "# Assuming your class names are as follows\n",
        "class_names = ['BrownSpot', 'Healthy', 'Hispa', 'LeafBlast']\n",
        "\n",
        "cm = confusion_matrix(val_data.classes, y_pred)\n",
        "\n",
        "# Plotting the confusion matrix\n",
        "plt.figure(figsize=(10,7))\n",
        "sns.heatmap(cm, annot=True, fmt='d', cmap='Blues', xticklabels=class_names, yticklabels=class_names)\n",
        "plt.xlabel('Predicted')\n",
        "plt.ylabel('Actual')\n",
        "plt.title('Confusion Matrix')\n",
        "plt.show()"
      ],
      "metadata": {
        "execution": {
          "iopub.status.busy": "2024-06-06T21:29:51.394196Z",
          "iopub.execute_input": "2024-06-06T21:29:51.394483Z",
          "iopub.status.idle": "2024-06-06T21:29:51.757706Z",
          "shell.execute_reply.started": "2024-06-06T21:29:51.394458Z",
          "shell.execute_reply": "2024-06-06T21:29:51.756721Z"
        },
        "trusted": true,
        "id": "GFnFghP9k8Ft"
      },
      "execution_count": null,
      "outputs": []
    },
    {
      "cell_type": "markdown",
      "source": [
        "## Test Random"
      ],
      "metadata": {
        "id": "WTn0uVHck8Ft"
      }
    },
    {
      "cell_type": "code",
      "source": [
        "from PIL import Image\n",
        "from keras.models import load_model\n",
        "# Load the trained model\n",
        "model = model\n",
        "\n",
        "# Define the image size and preprocessing function\n",
        "img_size = (224, 224)\n",
        "def preprocess_image(img_path):\n",
        "    img = Image.open(img_path).convert('RGB')\n",
        "    img = img.resize(img_size)\n",
        "    img = np.array(img) / 255.0\n",
        "    img = np.expand_dims(img, axis=0)\n",
        "    return img\n",
        "\n",
        "# Set the path to the image folder\n",
        "test_dir = '/kaggle/input/rl-diseases/random/random'\n",
        "img_folder = test_dir\n",
        "class_names = list(train_data.class_indices.keys())\n",
        "# Loop through all the images in the folder and make predictions\n",
        "for filename in os.listdir(img_folder):\n",
        "    img_path = os.path.join(img_folder, filename)\n",
        "    img = preprocess_image(img_path)\n",
        "    pred = model.predict(img)\n",
        "    class_idx = np.argmax(pred)\n",
        "    class_name = class_names[class_idx]\n",
        "    print(f'Image: {filename}, Class: {class_name}')"
      ],
      "metadata": {
        "execution": {
          "iopub.status.busy": "2024-06-06T21:29:25.129404Z",
          "iopub.execute_input": "2024-06-06T21:29:25.129762Z",
          "iopub.status.idle": "2024-06-06T21:29:27.892986Z",
          "shell.execute_reply.started": "2024-06-06T21:29:25.129727Z",
          "shell.execute_reply": "2024-06-06T21:29:27.891946Z"
        },
        "trusted": true,
        "id": "QgkCRtp3k8Fu"
      },
      "execution_count": null,
      "outputs": []
    },
    {
      "cell_type": "code",
      "source": [],
      "metadata": {
        "id": "zLyNwXDIk8Fv"
      },
      "execution_count": null,
      "outputs": []
    }
  ]
}